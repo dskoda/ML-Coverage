{
 "cells": [
  {
   "cell_type": "code",
   "execution_count": 1,
   "id": "7eb6c903",
   "metadata": {},
   "outputs": [
    {
     "data": {
      "application/vnd.jupyter.widget-view+json": {
       "model_id": "",
       "version_major": 2,
       "version_minor": 0
      },
      "text/plain": []
     },
     "metadata": {},
     "output_type": "display_data"
    }
   ],
   "source": [
    "import os\n",
    "import numpy as np\n",
    "import nglview as nv\n",
    "from pymatgen.core import Structure, Molecule\n",
    "from pymatgen.io.ase import AseAtomsAdaptor\n",
    "from ase.io import read, write\n",
    "\n",
    "from mkite_catalysis.runners.coverage import CoverageGenerator\n",
    "from mkite_catalysis.runners.deduplicate import Deduplicator"
   ]
  },
  {
   "cell_type": "markdown",
   "id": "80f0da43",
   "metadata": {},
   "source": [
    "## Loading the basics"
   ]
  },
  {
   "cell_type": "code",
   "execution_count": 2,
   "id": "49cd7798",
   "metadata": {},
   "outputs": [],
   "source": [
    "helium = Molecule(species=[\"He\"], coords=[[0, 0, 0]])"
   ]
  },
  {
   "cell_type": "code",
   "execution_count": 3,
   "id": "38aac592",
   "metadata": {},
   "outputs": [],
   "source": [
    "facet_dir = \"../data/01-facets\"\n",
    "facets = [100, 111, 211, 331, 410, 711]\n",
    "\n",
    "cutoffs = {\n",
    "    111: 1.0,\n",
    "    100: 1.0,\n",
    "    211: 1.4,\n",
    "    331: 1.6,\n",
    "    410: 1.2,\n",
    "    711: 1.8\n",
    "}\n",
    "\n",
    "surfaces = {}\n",
    "for facet in facets:\n",
    "    fname = os.path.join(facet_dir, f\"{facet}.POSCAR\")\n",
    "    surfaces[facet] = Structure.from_file(fname)"
   ]
  },
  {
   "cell_type": "markdown",
   "id": "dddd9455",
   "metadata": {},
   "source": [
    "## Making the sites"
   ]
  },
  {
   "cell_type": "code",
   "execution_count": 4,
   "id": "21a01c0d",
   "metadata": {},
   "outputs": [
    {
     "name": "stderr",
     "output_type": "stream",
     "text": [
      "UserWarning: No electronegativity for He. Setting to NaN. This has no physical meaning, and is mainly done to avoid errors caused by the code expecting a float.\n"
     ]
    }
   ],
   "source": [
    "for facet, surf in surfaces.items():\n",
    "    covgen = CoverageGenerator(\n",
    "        surf,\n",
    "        helium,\n",
    "        surface_height=cutoffs[facet],\n",
    "        adsorption_height=2,\n",
    "        distance_threshold=2,\n",
    "    )\n",
    "\n",
    "    sites = covgen.get_sites()\n",
    "\n",
    "    new = surf.copy()\n",
    "\n",
    "    for xyz in sites:\n",
    "        new.append(\n",
    "            species=\"He\",\n",
    "            coords=xyz,\n",
    "            coords_are_cartesian=True,\n",
    "            properties={\"selective_dynamics\": [False, False, False]}\n",
    "        )\n",
    "    \n",
    "    new.to(f\"../data/01-facets-sites/{facet}.cif\")"
   ]
  }
 ],
 "metadata": {
  "kernelspec": {
   "display_name": "mkite-cov",
   "language": "python",
   "name": "mkite-cov"
  },
  "language_info": {
   "codemirror_mode": {
    "name": "ipython",
    "version": 3
   },
   "file_extension": ".py",
   "mimetype": "text/x-python",
   "name": "python",
   "nbconvert_exporter": "python",
   "pygments_lexer": "ipython3",
   "version": "3.9.13"
  }
 },
 "nbformat": 4,
 "nbformat_minor": 5
}
