{
 "cells": [
  {
   "cell_type": "markdown",
   "id": "65d288a2-2694-4827-b6f4-701e6b897d77",
   "metadata": {},
   "source": [
    "# 07a - Performance of MACE model for Rh(111) + *CHOH + *CO\n",
    "\n",
    "This notebook reproduces Fig. 7a from the manuscript and shows the errors of a MACE model for predicted and true binding energies of CO on a Rh(111) surface containing *CHOH."
   ]
  },
  {
   "cell_type": "code",
   "execution_count": 1,
   "id": "824283d7",
   "metadata": {},
   "outputs": [],
   "source": [
    "from basics import *\n",
    "from plotting import *\n",
    "from ase.io import read\n",
    "import seaborn as sns\n",
    "from scipy import stats\n",
    "\n",
    "plt.style.use(\"paper\")"
   ]
  },
  {
   "cell_type": "markdown",
   "id": "e33420a1",
   "metadata": {},
   "source": [
    "## Obtaining the errors for the model trained on Rh(111)"
   ]
  },
  {
   "cell_type": "code",
   "execution_count": 2,
   "id": "5c2339e2",
   "metadata": {},
   "outputs": [],
   "source": [
    "dset_path = os.path.join(\"../data\", \"07-Rh111-mace\", \"Rh111-test.xyz\")\n",
    "\n",
    "dset = read(dset_path, index=\":\")\n",
    "\n",
    "df = []\n",
    "for i, at in enumerate(dset):\n",
    "    df.append({\n",
    "        \"index\": i,\n",
    "        \"crystal_id\": at.info[\"crystal_id\"],\n",
    "        \"nads\": (at.numbers == 6).sum() - 1,\n",
    "        \"n_atoms\": len(at),\n",
    "        \"true\": at.get_potential_energy(),\n",
    "        \"pred\": at.info[\"MACE_energy\"],\n",
    "    })\n",
    "\n",
    "df = pd.DataFrame(df)\n",
    "\n",
    "df[\"npred\"] = df[\"pred\"] / df[\"nads\"]\n",
    "df[\"ntrue\"] = df[\"true\"] / df[\"nads\"]"
   ]
  },
  {
   "cell_type": "code",
   "execution_count": 3,
   "id": "b7299663",
   "metadata": {},
   "outputs": [
    {
     "name": "stdout",
     "output_type": "stream",
     "text": [
      "7.813072131399011\n"
     ]
    }
   ],
   "source": [
    "err = df[\"npred\"] - df[\"ntrue\"]\n",
    "rmse = np.sqrt((err ** 2).mean()) * 1000\n",
    "print(rmse)"
   ]
  },
  {
   "cell_type": "code",
   "execution_count": 4,
   "id": "a2b847fa",
   "metadata": {},
   "outputs": [
    {
     "data": {
      "text/plain": [
       "9"
      ]
     },
     "execution_count": 4,
     "metadata": {},
     "output_type": "execute_result"
    }
   ],
   "source": [
    "df[\"nads\"].max()"
   ]
  },
  {
   "cell_type": "code",
   "execution_count": 5,
   "id": "fb34c924",
   "metadata": {},
   "outputs": [
    {
     "data": {
      "image/png": "[encoded data removed]",
      "text/plain": [
       "<Figure size 300x300 with 1 Axes>"
      ]
     },
     "metadata": {},
     "output_type": "display_data"
    }
   ],
   "source": [
    "fig, ax = plt.subplots(figsize=(3, 3))\n",
    "\n",
    "ax.scatter(\n",
    "    df[\"ntrue\"],\n",
    "    df[\"npred\"],\n",
    "    c=df[\"nads\"],\n",
    "    linewidths=0\n",
    ")\n",
    "lims = (-1, 2.5)\n",
    "ax.plot(lims, lims, \"k-\", zorder=-1, linewidth=0.5)\n",
    "ax.set_xlim(lims)\n",
    "ax.set_ylim(lims)\n",
    "\n",
    "ticks = np.arange(lims[0], lims[1] + 0.1, 1)\n",
    "ax.set_xticks(ticks)\n",
    "ax.set_yticks(ticks)\n",
    "ax.set_aspect(\"equal\")\n",
    "\n",
    "ax.set_xlabel(\"True Bind. Energy (eV/CO)\")\n",
    "ax.set_ylabel(\"Pred. Bind. Energy (eV/CO)\")\n",
    "\n",
    "ax.annotate(\n",
    "    f\"RMSE = {rmse:.0f} meV/CO\",\n",
    "    (0.98, 0.05),\n",
    "    xycoords=\"axes fraction\",\n",
    "    ha=\"right\",\n",
    "    fontsize=8\n",
    ")\n",
    "savefig(fig, \"07-Rh111-mace-parity.pdf\")\n",
    "plt.show()"
   ]
  },
  {
   "cell_type": "code",
   "execution_count": 6,
   "id": "4ed4eea8",
   "metadata": {},
   "outputs": [],
   "source": [
    "metrics = []\n",
    "\n",
    "for n, grp in df.groupby(\"nads\"):\n",
    "    err = grp[\"npred\"] - grp[\"ntrue\"]\n",
    "    _rmse = np.sqrt((err ** 2).mean()) * 1000\n",
    "    metrics.append({\"nads\": n, \"rmse\": _rmse, \"n_points\": len(grp)})\n",
    "\n",
    "metrics = pd.DataFrame(metrics)"
   ]
  },
  {
   "cell_type": "code",
   "execution_count": 7,
   "id": "fc4e11ec",
   "metadata": {},
   "outputs": [
    {
     "data": {
      "image/png": "[encoded data removed]",
      "text/plain": [
       "<Figure size 200x120 with 1 Axes>"
      ]
     },
     "metadata": {},
     "output_type": "display_data"
    }
   ],
   "source": [
    "fig, ax = plt.subplots(figsize=(2, 1.2))\n",
    "\n",
    "ax.plot(metrics[\"nads\"], metrics[\"rmse\"], \"-\")\n",
    "ax.scatter(metrics[\"nads\"], metrics[\"rmse\"], s=metrics[\"n_points\"] / 5)\n",
    "\n",
    "ax.set_ylim(0, 11)\n",
    "ax.set_xticks([3, 6, 9])\n",
    "ax.set_ylabel(\"RMSE (meV/CO)\", fontsize=9)\n",
    "ax.set_xlabel(\"Num. CO\", fontsize=9)\n",
    "\n",
    "savefig(fig, \"07-Rh111-mace-errors.pdf\")\n",
    "plt.show()"
   ]
  }
 ],
 "metadata": {
  "kernelspec": {
   "display_name": "Python 3 (ipykernel)",
   "language": "python",
   "name": "python3"
  },
  "language_info": {
   "codemirror_mode": {
    "name": "ipython",
    "version": 3
   },
   "file_extension": ".py",
   "mimetype": "text/x-python",
   "name": "python",
   "nbconvert_exporter": "python",
   "pygments_lexer": "ipython3",
   "version": "3.9.19"
  }
 },
 "nbformat": 4,
 "nbformat_minor": 5
}
