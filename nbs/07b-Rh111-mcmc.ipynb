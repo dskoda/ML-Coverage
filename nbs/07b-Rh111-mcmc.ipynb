{
 "cells": [
  {
   "cell_type": "markdown",
   "id": "e3f848af-1dd9-456a-9275-fba4a36f1304",
   "metadata": {},
   "source": [
    "# 07b - MCMC for Rh(111)\n",
    "\n",
    "This notebook reproduces Fig. 7b from the manuscript and Fig. S31 from the Supporting Information. The data in this notebook compares the initial and sampled binding energies for the Rh(111) + *CHOH + *CO structures before and after the MCMC."
   ]
  },
  {
   "cell_type": "code",
   "execution_count": 1,
   "id": "a7cec22c",
   "metadata": {},
   "outputs": [],
   "source": [
    "import json\n",
    "import itertools\n",
    "from basics import *\n",
    "from plotting import *\n",
    "from matplotlib import cm\n",
    "from ase import Atoms\n",
    "\n",
    "plt.style.use(\"paper\")"
   ]
  },
  {
   "cell_type": "markdown",
   "id": "458c71e4",
   "metadata": {},
   "source": [
    "## Visualizing the Monte Carlo approach"
   ]
  },
  {
   "cell_type": "code",
   "execution_count": 2,
   "id": "81f1efe1",
   "metadata": {},
   "outputs": [],
   "source": [
    "NUM_SITES = 9\n",
    "ORIGINAL = \"#2F4259\"\n",
    "SAMPLED = \"#C84260\""
   ]
  },
  {
   "cell_type": "code",
   "execution_count": 3,
   "id": "345258b1",
   "metadata": {},
   "outputs": [],
   "source": [
    "old = pd.read_json(\"../data/231003-Rh-data.json.gz\", compression=\"gzip\")\n",
    "df = pd.read_csv(\"../data/07-Rh111-mcmc/energies.csv.gz\", compression=\"gzip\", index_col=0)"
   ]
  },
  {
   "cell_type": "code",
   "execution_count": 4,
   "id": "acee583a",
   "metadata": {},
   "outputs": [
    {
     "data": {
      "text/plain": [
       "2920"
      ]
     },
     "execution_count": 4,
     "metadata": {},
     "output_type": "execute_result"
    }
   ],
   "source": [
    "len(old)"
   ]
  },
  {
   "cell_type": "code",
   "execution_count": 5,
   "id": "65ab17f1",
   "metadata": {},
   "outputs": [
    {
     "data": {
      "text/plain": [
       "3534206"
      ]
     },
     "execution_count": 5,
     "metadata": {},
     "output_type": "execute_result"
    }
   ],
   "source": [
    "len(df)"
   ]
  },
  {
   "cell_type": "code",
   "execution_count": 6,
   "id": "53e906ef",
   "metadata": {},
   "outputs": [],
   "source": [
    "with open(f\"../data/07-Rh111-mcmc/configs/23854-05.json\", \"r\") as f:\n",
    "    temps = json.load(f)[\"temperature\"]"
   ]
  },
  {
   "cell_type": "code",
   "execution_count": 7,
   "id": "85e91716",
   "metadata": {},
   "outputs": [
    {
     "data": {
      "text/html": [
       "<div>\n",
       "<style scoped>\n",
       "    .dataframe tbody tr th:only-of-type {\n",
       "        vertical-align: middle;\n",
       "    }\n",
       "\n",
       "    .dataframe tbody tr th {\n",
       "        vertical-align: top;\n",
       "    }\n",
       "\n",
       "    .dataframe thead th {\n",
       "        text-align: right;\n",
       "    }\n",
       "</style>\n",
       "<table border=\"1\" class=\"dataframe\">\n",
       "  <thead>\n",
       "    <tr style=\"text-align: right;\">\n",
       "      <th></th>\n",
       "      <th>move</th>\n",
       "      <th>replica</th>\n",
       "      <th>energy</th>\n",
       "      <th>init</th>\n",
       "      <th>nads</th>\n",
       "    </tr>\n",
       "  </thead>\n",
       "  <tbody>\n",
       "    <tr>\n",
       "      <th>0</th>\n",
       "      <td>0</td>\n",
       "      <td>0</td>\n",
       "      <td>-0.598346</td>\n",
       "      <td>23854</td>\n",
       "      <td>3</td>\n",
       "    </tr>\n",
       "    <tr>\n",
       "      <th>1</th>\n",
       "      <td>0</td>\n",
       "      <td>1</td>\n",
       "      <td>-1.111930</td>\n",
       "      <td>23854</td>\n",
       "      <td>3</td>\n",
       "    </tr>\n",
       "    <tr>\n",
       "      <th>2</th>\n",
       "      <td>0</td>\n",
       "      <td>2</td>\n",
       "      <td>0.021617</td>\n",
       "      <td>23854</td>\n",
       "      <td>3</td>\n",
       "    </tr>\n",
       "    <tr>\n",
       "      <th>3</th>\n",
       "      <td>0</td>\n",
       "      <td>3</td>\n",
       "      <td>0.591284</td>\n",
       "      <td>23854</td>\n",
       "      <td>3</td>\n",
       "    </tr>\n",
       "    <tr>\n",
       "      <th>4</th>\n",
       "      <td>0</td>\n",
       "      <td>4</td>\n",
       "      <td>-0.122871</td>\n",
       "      <td>23854</td>\n",
       "      <td>3</td>\n",
       "    </tr>\n",
       "  </tbody>\n",
       "</table>\n",
       "</div>"
      ],
      "text/plain": [
       "   move  replica    energy   init  nads\n",
       "0     0        0 -0.598346  23854     3\n",
       "1     0        1 -1.111930  23854     3\n",
       "2     0        2  0.021617  23854     3\n",
       "3     0        3  0.591284  23854     3\n",
       "4     0        4 -0.122871  23854     3"
      ]
     },
     "execution_count": 7,
     "metadata": {},
     "output_type": "execute_result"
    }
   ],
   "source": [
    "df.head()"
   ]
  },
  {
   "cell_type": "code",
   "execution_count": 8,
   "id": "6e588d08",
   "metadata": {},
   "outputs": [],
   "source": [
    "n = 5\n",
    "subdf = df.loc[(df[\"nads\"] == n) & (df[\"init\"] == 23856)]\n",
    "en = subdf.pivot(index=\"move\", columns=\"replica\", values=\"energy\")\n",
    "en = en / n"
   ]
  },
  {
   "cell_type": "code",
   "execution_count": 9,
   "id": "dd37f153",
   "metadata": {},
   "outputs": [
    {
     "data": {
      "image/png": "[encoded data removed]",
      "text/plain": [
       "<Figure size 250x400 with 2 Axes>"
      ]
     },
     "metadata": {},
     "output_type": "display_data"
    }
   ],
   "source": [
    "fig, axs = plt.subplots(2, 1, figsize=(2.5, 4), sharex=True, height_ratios=[0.15, 0.85])\n",
    "\n",
    "norm = plt.Normalize(0, 1.5)\n",
    "cmap = lambda x: cm.magma(norm(x))\n",
    "\n",
    "def random_color():\n",
    "    return cmap(np.random.uniform())\n",
    "\n",
    "ax = axs[0]\n",
    "ax.plot(temps, \"k-\")\n",
    "ax.set_ylim(0, 0.15)\n",
    "ax.set_ylabel(\"kT (eV)\")\n",
    "\n",
    "ax = axs[1]\n",
    "for i, row in en.T.iterrows():\n",
    "    if i % 15 != 0:\n",
    "        continue\n",
    "    ax.plot(row.values, color=random_color(), linewidth=0.4)\n",
    "\n",
    "ax.annotate(f\"Rh(111), *CHOH, 5 *CO\", (1.0, 0.95), xycoords=\"axes fraction\", ha=\"right\", va=\"top\")\n",
    "ax.set_ylabel(\"Binding Energy (eV/CO)\")\n",
    "ax.set_xlabel(\"Monte Carlo Step\")\n",
    "ax.set_xlim(0, 180)\n",
    "\n",
    "fig.tight_layout()\n",
    "savefig(fig, \"07-Rh111-mcmc-profile.pdf\")\n",
    "plt.show()"
   ]
  },
  {
   "cell_type": "markdown",
   "id": "ba4689b9",
   "metadata": {},
   "source": [
    "## Visualizing the binding energy curve"
   ]
  },
  {
   "cell_type": "code",
   "execution_count": 10,
   "id": "8b97a808",
   "metadata": {},
   "outputs": [],
   "source": [
    "sites = {\n",
    "    23854: \"bridge-1\",\n",
    "    23855: \"bridge-2\",\n",
    "    23856: \"top\",\n",
    "    23857: \"bridge-3\",\n",
    "    \n",
    "}"
   ]
  },
  {
   "cell_type": "code",
   "execution_count": 11,
   "id": "65754c38",
   "metadata": {},
   "outputs": [
    {
     "data": {
      "image/png": "[encoded data removed]",
      "text/plain": [
       "<Figure size 200x200 with 1 Axes>"
      ]
     },
     "metadata": {},
     "output_type": "display_data"
    }
   ],
   "source": [
    "fig, ax = plt.subplots(figsize=(2, 2))\n",
    "\n",
    "subold = old.loc[old[\"initial_crystal\"] == 23856]\n",
    "\n",
    "for n, grp in subold.groupby(\"num_adsorbates\"):\n",
    "    _x = np.ones(len(grp)) * n / NUM_SITES\n",
    "    \n",
    "    ax.scatter(\n",
    "        _x,\n",
    "        grp[\"unrelax_binding_site\"],\n",
    "        marker=\"_\",\n",
    "        s=35,\n",
    "        color=ORIGINAL,\n",
    "    )\n",
    "\n",
    "subdf = df.loc[df[\"init\"] == 23856]\n",
    "NMAX = 3\n",
    "for n, grp in subdf.groupby(\"nads\"):\n",
    "    _e = np.sort(grp[\"energy\"].unique()) / n\n",
    "    _x = np.ones(len(_e)) * n / NUM_SITES\n",
    "    \n",
    "    ax.scatter(\n",
    "        _x[:NMAX],\n",
    "        _e[:NMAX],\n",
    "        marker=\"_\",\n",
    "        s=35,\n",
    "        color=SAMPLED,\n",
    "    )\n",
    "\n",
    "ax.set_ylabel(\"Bind. Energy (eV/CO)\")\n",
    "ax.set_xlabel(\"Num. CO\")\n",
    "\n",
    "savefig(fig, \"07-Rh111-binding.pdf\")\n",
    "plt.show()"
   ]
  }
 ],
 "metadata": {
  "kernelspec": {
   "display_name": "Python 3 (ipykernel)",
   "language": "python",
   "name": "python3"
  },
  "language_info": {
   "codemirror_mode": {
    "name": "ipython",
    "version": 3
   },
   "file_extension": ".py",
   "mimetype": "text/x-python",
   "name": "python",
   "nbconvert_exporter": "python",
   "pygments_lexer": "ipython3",
   "version": "3.9.19"
  }
 },
 "nbformat": 4,
 "nbformat_minor": 5
}
