{
 "cells": [
  {
   "cell_type": "markdown",
   "id": "0d3192bb-4f77-4702-9430-c91c3794dbfe",
   "metadata": {},
   "source": [
    "# 04b - Comparing MCMC with random sampling\n",
    "\n",
    "This notebook reproduces Figs. 4b,c from the manuscript. The data in this notebook compares the energies of structures from random sampling vs MCMC ones."
   ]
  },
  {
   "cell_type": "code",
   "execution_count": 1,
   "id": "a7cec22c",
   "metadata": {},
   "outputs": [],
   "source": [
    "import json\n",
    "import itertools\n",
    "from basics import *\n",
    "from plotting import *\n",
    "from matplotlib import cm\n",
    "from ase import Atoms\n",
    "from scipy import stats\n",
    "from scipy.optimize import curve_fit\n",
    "from mpl_toolkits.axes_grid1.inset_locator import inset_axes\n",
    "\n",
    "from plotting import savefig\n",
    "\n",
    "plt.style.use(\"paper\")"
   ]
  },
  {
   "cell_type": "markdown",
   "id": "458c71e4",
   "metadata": {},
   "source": [
    "## Visualizing the Monte Carlo approach"
   ]
  },
  {
   "cell_type": "code",
   "execution_count": 2,
   "id": "a7359f2d",
   "metadata": {},
   "outputs": [],
   "source": [
    "facets = [100, 111, 211, 331, 410, 711]\n",
    "nads = np.arange(2, 24)\n",
    "num_sites = {100: 16, 111: 16, 211: 24, 331: 24, 410: 24, 711: 16}\n",
    "\n",
    "ORIGINAL = \"#2F4259\"\n",
    "SAMPLED = \"#C84260\""
   ]
  },
  {
   "cell_type": "markdown",
   "id": "e3f27762",
   "metadata": {},
   "source": [
    "## Comparing previous relaxed energies and sampled ones"
   ]
  },
  {
   "cell_type": "code",
   "execution_count": 3,
   "id": "19edc74c",
   "metadata": {},
   "outputs": [],
   "source": [
    "old = pd.read_json(\"../data/231003-COv-data.json\").rename(columns={\"num_adsorbates\": \"n\"})\n",
    "new = pd.read_csv(\"../data/05-mcmc-relax/231127-mcmc-relax.csv\", index_col=0)"
   ]
  },
  {
   "cell_type": "code",
   "execution_count": 4,
   "id": "5e6d8c2c",
   "metadata": {},
   "outputs": [],
   "source": [
    "old = old[[\"facet\", \"n\", \"unrelax_id\", \"unrelax_binding_site\", \"relax_id\", \"relax_binding_site\"]]"
   ]
  },
  {
   "cell_type": "code",
   "execution_count": 5,
   "id": "3dc66c54",
   "metadata": {},
   "outputs": [],
   "source": [
    "old[\"cov\"] = [row[\"n\"] / num_sites[row[\"facet\"]] for _, row in old.iterrows()]\n",
    "new[\"cov\"] = [row[\"n\"] / num_sites[row[\"facet\"]] for _, row in new.iterrows()]"
   ]
  },
  {
   "cell_type": "code",
   "execution_count": 6,
   "id": "137c8389",
   "metadata": {},
   "outputs": [
    {
     "data": {
      "text/html": [
       "<div>\n",
       "<style scoped>\n",
       "    .dataframe tbody tr th:only-of-type {\n",
       "        vertical-align: middle;\n",
       "    }\n",
       "\n",
       "    .dataframe tbody tr th {\n",
       "        vertical-align: top;\n",
       "    }\n",
       "\n",
       "    .dataframe thead th {\n",
       "        text-align: right;\n",
       "    }\n",
       "</style>\n",
       "<table border=\"1\" class=\"dataframe\">\n",
       "  <thead>\n",
       "    <tr style=\"text-align: right;\">\n",
       "      <th></th>\n",
       "      <th>facet</th>\n",
       "      <th>n</th>\n",
       "      <th>unrelax_id</th>\n",
       "      <th>unrelax_binding_site</th>\n",
       "      <th>relax_id</th>\n",
       "      <th>relax_binding_site</th>\n",
       "      <th>cov</th>\n",
       "    </tr>\n",
       "  </thead>\n",
       "  <tbody>\n",
       "    <tr>\n",
       "      <th>0</th>\n",
       "      <td>111</td>\n",
       "      <td>9</td>\n",
       "      <td>2305</td>\n",
       "      <td>0.233935</td>\n",
       "      <td>NaN</td>\n",
       "      <td>NaN</td>\n",
       "      <td>0.5625</td>\n",
       "    </tr>\n",
       "    <tr>\n",
       "      <th>1</th>\n",
       "      <td>100</td>\n",
       "      <td>1</td>\n",
       "      <td>32</td>\n",
       "      <td>0.137585</td>\n",
       "      <td>3400.0</td>\n",
       "      <td>-0.469819</td>\n",
       "      <td>0.0625</td>\n",
       "    </tr>\n",
       "    <tr>\n",
       "      <th>2</th>\n",
       "      <td>100</td>\n",
       "      <td>2</td>\n",
       "      <td>33</td>\n",
       "      <td>-0.127593</td>\n",
       "      <td>3438.0</td>\n",
       "      <td>-0.528158</td>\n",
       "      <td>0.1250</td>\n",
       "    </tr>\n",
       "    <tr>\n",
       "      <th>3</th>\n",
       "      <td>100</td>\n",
       "      <td>2</td>\n",
       "      <td>34</td>\n",
       "      <td>-0.415213</td>\n",
       "      <td>3411.0</td>\n",
       "      <td>-0.580090</td>\n",
       "      <td>0.1250</td>\n",
       "    </tr>\n",
       "    <tr>\n",
       "      <th>4</th>\n",
       "      <td>100</td>\n",
       "      <td>2</td>\n",
       "      <td>35</td>\n",
       "      <td>-0.098892</td>\n",
       "      <td>3394.0</td>\n",
       "      <td>-0.518803</td>\n",
       "      <td>0.1250</td>\n",
       "    </tr>\n",
       "    <tr>\n",
       "      <th>...</th>\n",
       "      <td>...</td>\n",
       "      <td>...</td>\n",
       "      <td>...</td>\n",
       "      <td>...</td>\n",
       "      <td>...</td>\n",
       "      <td>...</td>\n",
       "      <td>...</td>\n",
       "    </tr>\n",
       "    <tr>\n",
       "      <th>6788</th>\n",
       "      <td>211</td>\n",
       "      <td>18</td>\n",
       "      <td>19077</td>\n",
       "      <td>2.052192</td>\n",
       "      <td>NaN</td>\n",
       "      <td>NaN</td>\n",
       "      <td>0.7500</td>\n",
       "    </tr>\n",
       "    <tr>\n",
       "      <th>6789</th>\n",
       "      <td>211</td>\n",
       "      <td>18</td>\n",
       "      <td>19078</td>\n",
       "      <td>1.777975</td>\n",
       "      <td>NaN</td>\n",
       "      <td>NaN</td>\n",
       "      <td>0.7500</td>\n",
       "    </tr>\n",
       "    <tr>\n",
       "      <th>6790</th>\n",
       "      <td>211</td>\n",
       "      <td>18</td>\n",
       "      <td>19074</td>\n",
       "      <td>1.928995</td>\n",
       "      <td>NaN</td>\n",
       "      <td>NaN</td>\n",
       "      <td>0.7500</td>\n",
       "    </tr>\n",
       "    <tr>\n",
       "      <th>6791</th>\n",
       "      <td>211</td>\n",
       "      <td>18</td>\n",
       "      <td>19075</td>\n",
       "      <td>2.173271</td>\n",
       "      <td>NaN</td>\n",
       "      <td>NaN</td>\n",
       "      <td>0.7500</td>\n",
       "    </tr>\n",
       "    <tr>\n",
       "      <th>6792</th>\n",
       "      <td>211</td>\n",
       "      <td>18</td>\n",
       "      <td>19076</td>\n",
       "      <td>2.089858</td>\n",
       "      <td>NaN</td>\n",
       "      <td>NaN</td>\n",
       "      <td>0.7500</td>\n",
       "    </tr>\n",
       "  </tbody>\n",
       "</table>\n",
       "<p>6793 rows × 7 columns</p>\n",
       "</div>"
      ],
      "text/plain": [
       "      facet   n  unrelax_id  unrelax_binding_site  relax_id  \\\n",
       "0       111   9        2305              0.233935       NaN   \n",
       "1       100   1          32              0.137585    3400.0   \n",
       "2       100   2          33             -0.127593    3438.0   \n",
       "3       100   2          34             -0.415213    3411.0   \n",
       "4       100   2          35             -0.098892    3394.0   \n",
       "...     ...  ..         ...                   ...       ...   \n",
       "6788    211  18       19077              2.052192       NaN   \n",
       "6789    211  18       19078              1.777975       NaN   \n",
       "6790    211  18       19074              1.928995       NaN   \n",
       "6791    211  18       19075              2.173271       NaN   \n",
       "6792    211  18       19076              2.089858       NaN   \n",
       "\n",
       "      relax_binding_site     cov  \n",
       "0                    NaN  0.5625  \n",
       "1              -0.469819  0.0625  \n",
       "2              -0.528158  0.1250  \n",
       "3              -0.580090  0.1250  \n",
       "4              -0.518803  0.1250  \n",
       "...                  ...     ...  \n",
       "6788                 NaN  0.7500  \n",
       "6789                 NaN  0.7500  \n",
       "6790                 NaN  0.7500  \n",
       "6791                 NaN  0.7500  \n",
       "6792                 NaN  0.7500  \n",
       "\n",
       "[6793 rows x 7 columns]"
      ]
     },
     "execution_count": 6,
     "metadata": {},
     "output_type": "execute_result"
    }
   ],
   "source": [
    "old"
   ]
  },
  {
   "cell_type": "code",
   "execution_count": 7,
   "id": "c408f809",
   "metadata": {},
   "outputs": [
    {
     "data": {
      "text/plain": [
       "675"
      ]
     },
     "execution_count": 7,
     "metadata": {},
     "output_type": "execute_result"
    }
   ],
   "source": [
    "len(old.dropna())"
   ]
  },
  {
   "cell_type": "markdown",
   "id": "c7404a46",
   "metadata": {},
   "source": [
    "## Unrelax data"
   ]
  },
  {
   "cell_type": "code",
   "execution_count": 8,
   "id": "e26be6d3",
   "metadata": {},
   "outputs": [
    {
     "data": {
      "text/plain": [
       "count    6793.000000\n",
       "mean        0.748950\n",
       "std         0.940335\n",
       "min        -0.596088\n",
       "25%         0.071938\n",
       "50%         0.364576\n",
       "75%         1.249952\n",
       "max         5.528639\n",
       "Name: unrelax_binding_site, dtype: float64"
      ]
     },
     "execution_count": 8,
     "metadata": {},
     "output_type": "execute_result"
    }
   ],
   "source": [
    "old[\"unrelax_binding_site\"].describe()"
   ]
  },
  {
   "cell_type": "code",
   "execution_count": 9,
   "id": "1e5ffbe2",
   "metadata": {},
   "outputs": [
    {
     "data": {
      "image/png": "[encoded data removed]",
      "text/plain": [
       "<Figure size 300x200 with 6 Axes>"
      ]
     },
     "metadata": {},
     "output_type": "display_data"
    }
   ],
   "source": [
    "fig, axs = plt.subplots(2, 3, figsize=(3, 2), sharex=True)\n",
    "\n",
    "bins = np.linspace(-0.75, 6, 30)\n",
    "\n",
    "for ax, facet in zip(axs.ravel(), facets):\n",
    "    j = facets.index(facet)\n",
    "    subold = old.loc[old.facet == facet]\n",
    "    subnew = new.loc[new.facet == facet]\n",
    "    ax.hist(subold[\"unrelax_binding_site\"], bins=bins, color=ORIGINAL, density=True)\n",
    "    ax.hist(subnew[\"unrelax_binding_site\"], bins=bins, color=SAMPLED, histtype=\"step\", density=True)\n",
    "    ax.annotate(facet, (0.95, 0.95), xycoords=\"axes fraction\", ha=\"right\", va=\"top\")\n",
    "\n",
    "for ax in axs.reshape(-1):\n",
    "    ax.spines[\"left\"].set_visible(False)\n",
    "    ax.set_yticks([])\n",
    "    ax.set_xticks([])\n",
    "    ax.set_xlabel(\"\")\n",
    "    ax.set_ylabel(\"\")\n",
    "    \n",
    "for ax in axs[-1, :]:\n",
    "    ticks = [0, 4]\n",
    "    ax.set_xticks(ticks)\n",
    "    ax.set_xticklabels(ticks, fontsize=8)\n",
    "\n",
    "fig.supxlabel(\"Binding Energy (eV/CO)\", y=0.065, fontsize=10)\n",
    "\n",
    "fig.tight_layout()\n",
    "savefig(fig, \"04-unrelax-distributions.pdf\")\n",
    "plt.show()"
   ]
  },
  {
   "cell_type": "code",
   "execution_count": 10,
   "id": "55529d9a",
   "metadata": {},
   "outputs": [
    {
     "data": {
      "image/png": "[encoded data removed]",
      "text/plain": [
       "<Figure size 300x450 with 6 Axes>"
      ]
     },
     "metadata": {},
     "output_type": "display_data"
    }
   ],
   "source": [
    "fig, axs = plt.subplots(3, 2, figsize=(3, 4.5), sharex=True, sharey=True)\n",
    "\n",
    "for ax, facet in zip(axs.ravel(), facets):\n",
    "    j = facets.index(facet)\n",
    "    subold = old.loc[(old.facet == facet) & (old[\"cov\"] <= 1.0)]\n",
    "    subnew = new.loc[(new.facet == facet) & (new[\"cov\"] <= 1.0)]\n",
    "    \n",
    "    ax.scatter(\n",
    "        subold[\"cov\"],\n",
    "        subold[\"unrelax_binding_site\"],\n",
    "        color=ORIGINAL,\n",
    "        marker=\"_\",\n",
    "        s=12,\n",
    "    )\n",
    "    ax.scatter(\n",
    "        subnew[\"cov\"],\n",
    "        subnew[\"unrelax_binding_site\"],\n",
    "        color=SAMPLED,\n",
    "        marker=\"_\",\n",
    "        s=12,\n",
    "    )\n",
    "\n",
    "    ax.annotate(facet, (0.05, 0.95), xycoords=\"axes fraction\", ha=\"left\", va=\"top\")\n",
    "\n",
    "fig.supylabel(\"Unrelax. Binding Energy (eV/CO)\", x=0.04, fontsize=10)\n",
    "fig.supxlabel(\"Coverage\", y=0.06, fontsize=10)\n",
    "\n",
    "fig.tight_layout()\n",
    "savefig(fig, \"04-unrelax-binding.pdf\")\n",
    "plt.show()"
   ]
  }
 ],
 "metadata": {
  "kernelspec": {
   "display_name": "Python 3 (ipykernel)",
   "language": "python",
   "name": "python3"
  },
  "language_info": {
   "codemirror_mode": {
    "name": "ipython",
    "version": 3
   },
   "file_extension": ".py",
   "mimetype": "text/x-python",
   "name": "python",
   "nbconvert_exporter": "python",
   "pygments_lexer": "ipython3",
   "version": "3.9.19"
  }
 },
 "nbformat": 4,
 "nbformat_minor": 5
}
