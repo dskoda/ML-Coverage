{
 "cells": [
  {
   "cell_type": "markdown",
   "id": "4b17b54a-1bdf-40d5-ac5c-eb0686d50c3c",
   "metadata": {},
   "source": [
    "# 05b - Coordination numbers of relaxed configurations\n",
    "\n",
    "This notebook reproduces Fig. 5d from the manuscript and computes an average coordination number for the adsorbed CO molecules on different Cu facets."
   ]
  },
  {
   "cell_type": "code",
   "execution_count": 1,
   "id": "a7cec22c",
   "metadata": {},
   "outputs": [],
   "source": [
    "import json\n",
    "import itertools\n",
    "from basics import *\n",
    "from plotting import *\n",
    "from matplotlib import cm\n",
    "from ase import Atoms\n",
    "from scipy import stats\n",
    "from scipy.optimize import curve_fit\n",
    "import seaborn as sns\n",
    "\n",
    "from plotting import savefig\n",
    "\n",
    "plt.style.use(\"paper\")"
   ]
  },
  {
   "cell_type": "code",
   "execution_count": 2,
   "id": "a7359f2d",
   "metadata": {},
   "outputs": [],
   "source": [
    "facets = [100, 111, 211, 331, 410, 711]\n",
    "nads = np.arange(2, 24)\n",
    "num_sites = {100: 16, 111: 16, 211: 24, 331: 24, 410: 24, 711: 16}\n",
    "surf_cutoff = {\n",
    "    111: 1.0,\n",
    "    100: 1.0,\n",
    "    211: 1.4,\n",
    "    331: 1.6,\n",
    "    410: 1.2,\n",
    "    711: 1.8\n",
    "}\n",
    "\n",
    "ORIGINAL = \"#2F4259\"\n",
    "SAMPLED = \"#C84260\""
   ]
  },
  {
   "cell_type": "code",
   "execution_count": 3,
   "id": "92d05956",
   "metadata": {},
   "outputs": [],
   "source": [
    "def get_surface_atoms(atoms, cutoff=1.0):\n",
    "    symbols = np.array(at.get_chemical_symbols())\n",
    "    sym_mask = (symbols == \"Cu\")\n",
    "\n",
    "    z = at.positions[:, 2]\n",
    "    min_z = z[sym_mask].max() - cutoff\n",
    "\n",
    "    pos_mask = (z > min_z)\n",
    "\n",
    "    mask = np.bitwise_and(sym_mask, pos_mask)\n",
    "    return mask\n",
    "\n",
    "def get_coordination_number(atoms, i, index=None):\n",
    "    if index is None:\n",
    "        index = range(len(atoms))\n",
    "        \n",
    "    dist = atoms.get_distances(i, index, mic=True)\n",
    "    dist = np.sort(dist)[1:]\n",
    "    inside = smooth_bump(dist)\n",
    "    \n",
    "    return inside.sum()"
   ]
  },
  {
   "cell_type": "code",
   "execution_count": 4,
   "id": "ce472bf4",
   "metadata": {},
   "outputs": [],
   "source": [
    "def smooth_bump(x, r0=2.7, rc=4.5):\n",
    "    z = np.exp(1 - 1 / (1 - ((x - r0) / (rc - r0))**2))\n",
    "    false = np.where(x > rc, 0, z)\n",
    "    return np.where(x < r0, 1, false)"
   ]
  },
  {
   "cell_type": "markdown",
   "id": "e3f27762",
   "metadata": {},
   "source": [
    "## Comparing previous relaxed energies and sampled ones"
   ]
  },
  {
   "cell_type": "code",
   "execution_count": 5,
   "id": "19edc74c",
   "metadata": {},
   "outputs": [],
   "source": [
    "df = pd.read_json(\"../data/05-mcmc-relax/231127-mcmc-relax.json\")\n",
    "df[\"cov\"] = [row[\"n\"] / num_sites[row[\"facet\"]] for _, row in df.iterrows()]\n",
    "df = df.dropna()"
   ]
  },
  {
   "cell_type": "code",
   "execution_count": 6,
   "id": "3be0ab1f",
   "metadata": {},
   "outputs": [],
   "source": [
    "at = Atoms.fromdict(df.iloc[-1][\"relax_atoms\"])"
   ]
  },
  {
   "cell_type": "code",
   "execution_count": 7,
   "id": "a3bb9314",
   "metadata": {},
   "outputs": [],
   "source": [
    "def get_adsorbed_cns(atoms, eps=0.05):\n",
    "    indices = np.arange(len(atoms))\n",
    "    symbols = np.array(atoms.get_chemical_symbols())\n",
    "    copper = symbols == \"Cu\"\n",
    "    carbon = symbols == \"C\"\n",
    "\n",
    "    cn = np.array([\n",
    "        get_coordination_number(atoms, i, indices[copper])\n",
    "        if is_cu\n",
    "        else 0\n",
    "        for i, is_cu in enumerate(copper)\n",
    "    ])\n",
    "\n",
    "    ads_cns = []\n",
    "    for i in indices[carbon]:\n",
    "        d = atoms.get_distances(i, indices[copper], mic=True)\n",
    "        close_i, = np.where(d < d.min() + eps)\n",
    "        close_cu = indices[copper][close_i]\n",
    "        ads_cns.append(cn[close_cu].mean())\n",
    "\n",
    "    return np.array(ads_cns)"
   ]
  },
  {
   "cell_type": "markdown",
   "id": "b26edc60",
   "metadata": {},
   "source": [
    "## Obtaining the CN per coverage"
   ]
  },
  {
   "cell_type": "code",
   "execution_count": 8,
   "id": "7918449d",
   "metadata": {},
   "outputs": [
    {
     "name": "stderr",
     "output_type": "stream",
     "text": [
      "/var/folders/pk/bysbkx9j3993c_vqdsykcn680000gn/T/ipykernel_46698/1949703228.py:2: RuntimeWarning: overflow encountered in exp\n",
      "  z = np.exp(1 - 1 / (1 - ((x - r0) / (rc - r0))**2))\n"
     ]
    }
   ],
   "source": [
    "results = []\n",
    "for (cov, facet), grp in df.groupby([\"cov\", \"facet\"]):\n",
    "    grp = grp.sort_values(\"relax_binding_site\")\n",
    "    \n",
    "    # low energy\n",
    "    row = grp.iloc[0]\n",
    "    at = Atoms.fromdict(row[\"relax_atoms\"])\n",
    "    cns = get_adsorbed_cns(at)\n",
    "    \n",
    "    for cn in cns:\n",
    "        results.append({\n",
    "            \"facet\": facet,\n",
    "            \"cn\": cn,\n",
    "            \"cov\": cov,\n",
    "            \"n\": row[\"n\"],\n",
    "            \"energy\": row[\"relax_binding_site\"],\n",
    "            \"crystal_id\": row[\"relax_crystal_id\"],\n",
    "            \"rank\": \"low\",\n",
    "        })\n",
    "    \n",
    "        row = grp.iloc[0]\n",
    "    \n",
    "    # high energy\n",
    "    row = grp.iloc[-1]\n",
    "    at = Atoms.fromdict(row[\"relax_atoms\"])\n",
    "    cns = get_adsorbed_cns(at)\n",
    "    \n",
    "    for cn in cns:\n",
    "        results.append({\n",
    "            \"facet\": facet,\n",
    "            \"cn\": cn,\n",
    "            \"cov\": cov,\n",
    "            \"n\": row[\"n\"],\n",
    "            \"energy\": row[\"relax_binding_site\"],\n",
    "            \"crystal_id\": row[\"relax_crystal_id\"],\n",
    "            \"rank\": \"high\",\n",
    "        })\n",
    "        \n",
    "cndf = pd.DataFrame(results)"
   ]
  },
  {
   "cell_type": "code",
   "execution_count": 9,
   "id": "d0bf5dfe",
   "metadata": {},
   "outputs": [
    {
     "data": {
      "image/png": "[encoded data removed]",
      "text/plain": [
       "<Figure size 200x200 with 1 Axes>"
      ]
     },
     "metadata": {},
     "output_type": "display_data"
    }
   ],
   "source": [
    "fig, ax = plt.subplots(figsize=(2, 2))\n",
    "\n",
    "subdf = cndf.loc[(cndf[\"rank\"] == \"low\") & (cndf[\"facet\"] == 410)]\n",
    "ax.scatter(\n",
    "    subdf[\"cov\"],\n",
    "    subdf[\"cn\"],\n",
    "    c=SAMPLED,\n",
    "    marker=\"_\",\n",
    ")\n",
    "\n",
    "\n",
    "ax.set_xlabel(\"coverage (monolayer)\")\n",
    "ax.set_ylabel(\"Avg. Coord. Number\")\n",
    "\n",
    "# savefig(fig, \"05-cn-410-lowe.pdf\")\n",
    "plt.show()"
   ]
  },
  {
   "cell_type": "code",
   "execution_count": 10,
   "id": "88d51997",
   "metadata": {},
   "outputs": [
    {
     "data": {
      "image/png": "[encoded data removed]",
      "text/plain": [
       "<Figure size 250x400 with 36 Axes>"
      ]
     },
     "metadata": {},
     "output_type": "display_data"
    }
   ],
   "source": [
    "num_plots = len(cndf.loc[cndf[\"facet\"] == 410][\"n\"].unique())\n",
    "norm = plt.Normalize(0.0, 1.0)\n",
    "cmap = lambda _x: cm.viridis(norm(_x))\n",
    "\n",
    "fig, axs = plt.subplots(num_plots, 2, figsize=(2.5, 4), sharex=True)\n",
    "\n",
    "subdf = cndf.loc[(cndf[\"rank\"] == \"low\") & (cndf[\"facet\"] == 410)]\n",
    "for (ax, (cov, grp)) in zip(axs[:, 0].ravel(), subdf.groupby(\"cov\")):\n",
    "    sns.kdeplot(\n",
    "        grp[\"cn\"],\n",
    "        color=cmap(cov),\n",
    "        ax=ax,\n",
    "        fill=True,\n",
    "        bw_adjust=0.5,\n",
    "    )\n",
    "    \n",
    "subdf = cndf.loc[(cndf[\"rank\"] == \"high\") & (cndf[\"facet\"] == 410)]\n",
    "for (ax, (cov, grp)) in zip(axs[:, 1].ravel(), subdf.groupby(\"cov\")):\n",
    "    sns.kdeplot(\n",
    "        grp[\"cn\"],\n",
    "        color=cmap(cov),\n",
    "        ax=ax,\n",
    "        fill=True,\n",
    "        bw_adjust=0.5,\n",
    "    )\n",
    "\n",
    "for ax in axs.ravel():\n",
    "    ax.spines[\"left\"].set_visible(False)\n",
    "    ax.set_ylabel(\"\")\n",
    "    ax.set_yticks([])\n",
    "    \n",
    "axs[0, 0].set_title(\"low energy\", fontsize=8)\n",
    "axs[0, 1].set_title(\"high energy\", fontsize=8)\n",
    "\n",
    "for ax in axs[-1, :]:\n",
    "    ax.set_xlabel(\"Avg. CN\")\n",
    "    \n",
    "savefig(fig, \"05-relax-kdes.pdf\")    \n",
    "plt.show()"
   ]
  }
 ],
 "metadata": {
  "kernelspec": {
   "display_name": "Python 3 (ipykernel)",
   "language": "python",
   "name": "python3"
  },
  "language_info": {
   "codemirror_mode": {
    "name": "ipython",
    "version": 3
   },
   "file_extension": ".py",
   "mimetype": "text/x-python",
   "name": "python",
   "nbconvert_exporter": "python",
   "pygments_lexer": "ipython3",
   "version": "3.9.19"
  }
 },
 "nbformat": 4,
 "nbformat_minor": 5
}
