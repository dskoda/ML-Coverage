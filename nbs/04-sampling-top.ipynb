{
 "cells": [
  {
   "cell_type": "code",
   "execution_count": 1,
   "id": "a7cec22c",
   "metadata": {},
   "outputs": [],
   "source": [
    "import json\n",
    "import itertools\n",
    "from basics import *\n",
    "from plotting import *\n",
    "from matplotlib import cm\n",
    "from ase import Atoms\n",
    "\n",
    "plt.style.use(\"paper\")"
   ]
  },
  {
   "cell_type": "markdown",
   "id": "458c71e4",
   "metadata": {},
   "source": [
    "## Visualizing the Monte Carlo approach"
   ]
  },
  {
   "cell_type": "code",
   "execution_count": 2,
   "id": "a7359f2d",
   "metadata": {},
   "outputs": [],
   "source": [
    "facets = [100, 111, 211, 331, 410, 711]\n",
    "nads = np.arange(2, 19)"
   ]
  },
  {
   "cell_type": "code",
   "execution_count": 3,
   "id": "345258b1",
   "metadata": {},
   "outputs": [],
   "source": [
    "df = pd.read_csv(\"../data/mcmc/energies.csv.gz\", compression=\"gzip\", index_col=0)"
   ]
  },
  {
   "cell_type": "code",
   "execution_count": 4,
   "id": "44e9485e",
   "metadata": {},
   "outputs": [
    {
     "data": {
      "text/plain": [
       "14322349"
      ]
     },
     "execution_count": 4,
     "metadata": {},
     "output_type": "execute_result"
    }
   ],
   "source": [
    "len(df)"
   ]
  },
  {
   "cell_type": "code",
   "execution_count": 9,
   "id": "fd25ff5f",
   "metadata": {},
   "outputs": [],
   "source": [
    "minen = df.groupby([\"facet\", \"n\"])[\"energy\"]"
   ]
  },
  {
   "cell_type": "code",
   "execution_count": 19,
   "id": "97a76b14",
   "metadata": {},
   "outputs": [],
   "source": [
    "perc = pd.DataFrame([\n",
    "    {\"facet\": facet, \"n\": n, \"top10\": np.percentile(grp[\"energy\"], 10)}\n",
    "    for (facet, n), grp in df.groupby([\"facet\", \"n\"])\n",
    "])\n",
    "perc[\"key\"] = perc[\"facet\"].apply(str) + \"-\" + perc[\"n\"].apply(str)"
   ]
  },
  {
   "cell_type": "code",
   "execution_count": 20,
   "id": "5a0e319d",
   "metadata": {},
   "outputs": [],
   "source": [
    "df[\"key\"] = df[\"facet\"].apply(str) + \"-\" + df[\"n\"].apply(str)"
   ]
  },
  {
   "cell_type": "code",
   "execution_count": 21,
   "id": "2a066c9f",
   "metadata": {},
   "outputs": [],
   "source": [
    "perc = perc.set_index(\"key\")"
   ]
  },
  {
   "cell_type": "code",
   "execution_count": 25,
   "id": "70d23b5a",
   "metadata": {},
   "outputs": [],
   "source": [
    "df[\"top10\"] = perc.reindex(df[\"key\"].values)[\"top10\"].values"
   ]
  },
  {
   "cell_type": "code",
   "execution_count": 27,
   "id": "943bcaa6",
   "metadata": {},
   "outputs": [],
   "source": [
    "df[\"in_top10\"] = df[\"energy\"] <= df[\"top10\"]"
   ]
  },
  {
   "cell_type": "code",
   "execution_count": 30,
   "id": "90a002f6",
   "metadata": {},
   "outputs": [],
   "source": [
    "dedup = df.drop_duplicates(subset=\"energy\")"
   ]
  },
  {
   "cell_type": "code",
   "execution_count": 33,
   "id": "6749ca74",
   "metadata": {},
   "outputs": [
    {
     "data": {
      "text/html": [
       "<div>\n",
       "<style scoped>\n",
       "    .dataframe tbody tr th:only-of-type {\n",
       "        vertical-align: middle;\n",
       "    }\n",
       "\n",
       "    .dataframe tbody tr th {\n",
       "        vertical-align: top;\n",
       "    }\n",
       "\n",
       "    .dataframe thead th {\n",
       "        text-align: right;\n",
       "    }\n",
       "</style>\n",
       "<table border=\"1\" class=\"dataframe\">\n",
       "  <thead>\n",
       "    <tr style=\"text-align: right;\">\n",
       "      <th>facet</th>\n",
       "      <th>100</th>\n",
       "      <th>111</th>\n",
       "      <th>211</th>\n",
       "      <th>331</th>\n",
       "      <th>410</th>\n",
       "      <th>711</th>\n",
       "    </tr>\n",
       "    <tr>\n",
       "      <th>n</th>\n",
       "      <th></th>\n",
       "      <th></th>\n",
       "      <th></th>\n",
       "      <th></th>\n",
       "      <th></th>\n",
       "      <th></th>\n",
       "    </tr>\n",
       "  </thead>\n",
       "  <tbody>\n",
       "    <tr>\n",
       "      <th>2</th>\n",
       "      <td>1</td>\n",
       "      <td>2</td>\n",
       "      <td>4</td>\n",
       "      <td>5</td>\n",
       "      <td>13</td>\n",
       "      <td>2</td>\n",
       "    </tr>\n",
       "    <tr>\n",
       "      <th>3</th>\n",
       "      <td>4</td>\n",
       "      <td>16</td>\n",
       "      <td>107</td>\n",
       "      <td>91</td>\n",
       "      <td>248</td>\n",
       "      <td>19</td>\n",
       "    </tr>\n",
       "    <tr>\n",
       "      <th>4</th>\n",
       "      <td>27</td>\n",
       "      <td>189</td>\n",
       "      <td>287</td>\n",
       "      <td>316</td>\n",
       "      <td>351</td>\n",
       "      <td>140</td>\n",
       "    </tr>\n",
       "    <tr>\n",
       "      <th>5</th>\n",
       "      <td>118</td>\n",
       "      <td>328</td>\n",
       "      <td>334</td>\n",
       "      <td>300</td>\n",
       "      <td>384</td>\n",
       "      <td>271</td>\n",
       "    </tr>\n",
       "    <tr>\n",
       "      <th>6</th>\n",
       "      <td>267</td>\n",
       "      <td>369</td>\n",
       "      <td>357</td>\n",
       "      <td>302</td>\n",
       "      <td>371</td>\n",
       "      <td>291</td>\n",
       "    </tr>\n",
       "    <tr>\n",
       "      <th>7</th>\n",
       "      <td>306</td>\n",
       "      <td>307</td>\n",
       "      <td>358</td>\n",
       "      <td>298</td>\n",
       "      <td>409</td>\n",
       "      <td>318</td>\n",
       "    </tr>\n",
       "    <tr>\n",
       "      <th>8</th>\n",
       "      <td>348</td>\n",
       "      <td>293</td>\n",
       "      <td>356</td>\n",
       "      <td>321</td>\n",
       "      <td>375</td>\n",
       "      <td>280</td>\n",
       "    </tr>\n",
       "    <tr>\n",
       "      <th>9</th>\n",
       "      <td>353</td>\n",
       "      <td>304</td>\n",
       "      <td>326</td>\n",
       "      <td>306</td>\n",
       "      <td>393</td>\n",
       "      <td>314</td>\n",
       "    </tr>\n",
       "    <tr>\n",
       "      <th>10</th>\n",
       "      <td>317</td>\n",
       "      <td>282</td>\n",
       "      <td>290</td>\n",
       "      <td>317</td>\n",
       "      <td>334</td>\n",
       "      <td>282</td>\n",
       "    </tr>\n",
       "    <tr>\n",
       "      <th>11</th>\n",
       "      <td>284</td>\n",
       "      <td>253</td>\n",
       "      <td>301</td>\n",
       "      <td>325</td>\n",
       "      <td>341</td>\n",
       "      <td>284</td>\n",
       "    </tr>\n",
       "    <tr>\n",
       "      <th>12</th>\n",
       "      <td>286</td>\n",
       "      <td>49</td>\n",
       "      <td>299</td>\n",
       "      <td>320</td>\n",
       "      <td>312</td>\n",
       "      <td>298</td>\n",
       "    </tr>\n",
       "    <tr>\n",
       "      <th>13</th>\n",
       "      <td>259</td>\n",
       "      <td>4</td>\n",
       "      <td>299</td>\n",
       "      <td>309</td>\n",
       "      <td>333</td>\n",
       "      <td>287</td>\n",
       "    </tr>\n",
       "    <tr>\n",
       "      <th>14</th>\n",
       "      <td>195</td>\n",
       "      <td>1</td>\n",
       "      <td>308</td>\n",
       "      <td>92</td>\n",
       "      <td>302</td>\n",
       "      <td>198</td>\n",
       "    </tr>\n",
       "    <tr>\n",
       "      <th>15</th>\n",
       "      <td>56</td>\n",
       "      <td>1</td>\n",
       "      <td>115</td>\n",
       "      <td>23</td>\n",
       "      <td>309</td>\n",
       "      <td>55</td>\n",
       "    </tr>\n",
       "    <tr>\n",
       "      <th>16</th>\n",
       "      <td>22</td>\n",
       "      <td>0</td>\n",
       "      <td>27</td>\n",
       "      <td>4</td>\n",
       "      <td>320</td>\n",
       "      <td>9</td>\n",
       "    </tr>\n",
       "    <tr>\n",
       "      <th>17</th>\n",
       "      <td>9</td>\n",
       "      <td>0</td>\n",
       "      <td>11</td>\n",
       "      <td>1</td>\n",
       "      <td>287</td>\n",
       "      <td>3</td>\n",
       "    </tr>\n",
       "    <tr>\n",
       "      <th>18</th>\n",
       "      <td>1</td>\n",
       "      <td>0</td>\n",
       "      <td>0</td>\n",
       "      <td>0</td>\n",
       "      <td>261</td>\n",
       "      <td>1</td>\n",
       "    </tr>\n",
       "  </tbody>\n",
       "</table>\n",
       "</div>"
      ],
      "text/plain": [
       "facet  100  111  211  331  410  711\n",
       "n                                  \n",
       "2        1    2    4    5   13    2\n",
       "3        4   16  107   91  248   19\n",
       "4       27  189  287  316  351  140\n",
       "5      118  328  334  300  384  271\n",
       "6      267  369  357  302  371  291\n",
       "7      306  307  358  298  409  318\n",
       "8      348  293  356  321  375  280\n",
       "9      353  304  326  306  393  314\n",
       "10     317  282  290  317  334  282\n",
       "11     284  253  301  325  341  284\n",
       "12     286   49  299  320  312  298\n",
       "13     259    4  299  309  333  287\n",
       "14     195    1  308   92  302  198\n",
       "15      56    1  115   23  309   55\n",
       "16      22    0   27    4  320    9\n",
       "17       9    0   11    1  287    3\n",
       "18       1    0    0    0  261    1"
      ]
     },
     "execution_count": 33,
     "metadata": {},
     "output_type": "execute_result"
    }
   ],
   "source": [
    "dedup.groupby([\"facet\", \"n\"])[\"in_top10\"].sum().reset_index().pivot(index=\"n\", columns=\"facet\", values=\"in_top10\").fillna(0).astype(int)"
   ]
  }
 ],
 "metadata": {
  "kernelspec": {
   "display_name": "mkite-cov",
   "language": "python",
   "name": "mkite-cov"
  },
  "language_info": {
   "codemirror_mode": {
    "name": "ipython",
    "version": 3
   },
   "file_extension": ".py",
   "mimetype": "text/x-python",
   "name": "python",
   "nbconvert_exporter": "python",
   "pygments_lexer": "ipython3",
   "version": "3.9.13"
  }
 },
 "nbformat": 4,
 "nbformat_minor": 5
}
