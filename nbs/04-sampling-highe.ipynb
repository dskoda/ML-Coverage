{
 "cells": [
  {
   "cell_type": "code",
   "execution_count": 1,
   "id": "a7cec22c",
   "metadata": {},
   "outputs": [],
   "source": [
    "import json\n",
    "import itertools\n",
    "from basics import *\n",
    "from plotting import *\n",
    "from matplotlib import cm\n",
    "from ase import Atoms\n",
    "from scipy import stats\n",
    "\n",
    "plt.style.use(\"paper\")"
   ]
  },
  {
   "cell_type": "markdown",
   "id": "458c71e4",
   "metadata": {},
   "source": [
    "## Visualizing the Monte Carlo approach"
   ]
  },
  {
   "cell_type": "code",
   "execution_count": 2,
   "id": "a7359f2d",
   "metadata": {},
   "outputs": [],
   "source": [
    "facets = [100, 111, 211, 331, 410, 711]\n",
    "nads = np.arange(2, 19)\n",
    "num_sites = {100: 16, 111: 16, 211: 24, 331: 24, 410: 24, 711: 16}"
   ]
  },
  {
   "cell_type": "code",
   "execution_count": 15,
   "id": "345258b1",
   "metadata": {},
   "outputs": [],
   "source": [
    "df = pd.read_json(\"../data/mcmc/results/410-11.json\")"
   ]
  },
  {
   "cell_type": "markdown",
   "id": "3833d657",
   "metadata": {},
   "source": [
    "## Visualizing"
   ]
  },
  {
   "cell_type": "code",
   "execution_count": 4,
   "id": "63a3721c",
   "metadata": {},
   "outputs": [
    {
     "data": {
      "application/vnd.jupyter.widget-view+json": {
       "model_id": "65a40adbc14d41c482d3b07b4535315d",
       "version_major": 2,
       "version_minor": 0
      },
      "text/plain": []
     },
     "metadata": {},
     "output_type": "display_data"
    }
   ],
   "source": [
    "from ase import Atoms\n",
    "import nglview as nv\n",
    "from ase.build import make_supercell"
   ]
  },
  {
   "cell_type": "code",
   "execution_count": 5,
   "id": "37303043",
   "metadata": {},
   "outputs": [],
   "source": [
    "def get_atoms(adict):\n",
    "    return Atoms(\n",
    "        positions=adict[\"positions\"],\n",
    "        numbers=adict[\"numbers\"],\n",
    "        pbc=adict[\"pbc\"],\n",
    "        cell=adict[\"cell\"]\n",
    "    )"
   ]
  },
  {
   "cell_type": "code",
   "execution_count": 10,
   "id": "9035fe98",
   "metadata": {},
   "outputs": [
    {
     "data": {
      "text/html": [
       "<div>\n",
       "<style scoped>\n",
       "    .dataframe tbody tr th:only-of-type {\n",
       "        vertical-align: middle;\n",
       "    }\n",
       "\n",
       "    .dataframe tbody tr th {\n",
       "        vertical-align: top;\n",
       "    }\n",
       "\n",
       "    .dataframe thead th {\n",
       "        text-align: right;\n",
       "    }\n",
       "</style>\n",
       "<table border=\"1\" class=\"dataframe\">\n",
       "  <thead>\n",
       "    <tr style=\"text-align: right;\">\n",
       "      <th></th>\n",
       "      <th>move</th>\n",
       "      <th>replica</th>\n",
       "      <th>atoms</th>\n",
       "      <th>energy</th>\n",
       "    </tr>\n",
       "  </thead>\n",
       "  <tbody>\n",
       "    <tr>\n",
       "      <th>0</th>\n",
       "      <td>0</td>\n",
       "      <td>0</td>\n",
       "      <td>{'numbers': [29, 29, 29, 29, 29, 29, 29, 29, 2...</td>\n",
       "      <td>10.894518</td>\n",
       "    </tr>\n",
       "    <tr>\n",
       "      <th>1</th>\n",
       "      <td>0</td>\n",
       "      <td>1</td>\n",
       "      <td>{'numbers': [29, 29, 29, 29, 29, 29, 29, 29, 2...</td>\n",
       "      <td>21.653111</td>\n",
       "    </tr>\n",
       "    <tr>\n",
       "      <th>2</th>\n",
       "      <td>0</td>\n",
       "      <td>2</td>\n",
       "      <td>{'numbers': [29, 29, 29, 29, 29, 29, 29, 29, 2...</td>\n",
       "      <td>28.139352</td>\n",
       "    </tr>\n",
       "    <tr>\n",
       "      <th>3</th>\n",
       "      <td>0</td>\n",
       "      <td>3</td>\n",
       "      <td>{'numbers': [29, 29, 29, 29, 29, 29, 29, 29, 2...</td>\n",
       "      <td>16.656945</td>\n",
       "    </tr>\n",
       "    <tr>\n",
       "      <th>4</th>\n",
       "      <td>0</td>\n",
       "      <td>4</td>\n",
       "      <td>{'numbers': [29, 29, 29, 29, 29, 29, 29, 29, 2...</td>\n",
       "      <td>20.105154</td>\n",
       "    </tr>\n",
       "  </tbody>\n",
       "</table>\n",
       "</div>"
      ],
      "text/plain": [
       "   move  replica                                              atoms     energy\n",
       "0     0        0  {'numbers': [29, 29, 29, 29, 29, 29, 29, 29, 2...  10.894518\n",
       "1     0        1  {'numbers': [29, 29, 29, 29, 29, 29, 29, 29, 2...  21.653111\n",
       "2     0        2  {'numbers': [29, 29, 29, 29, 29, 29, 29, 29, 2...  28.139352\n",
       "3     0        3  {'numbers': [29, 29, 29, 29, 29, 29, 29, 29, 2...  16.656945\n",
       "4     0        4  {'numbers': [29, 29, 29, 29, 29, 29, 29, 29, 2...  20.105154"
      ]
     },
     "execution_count": 10,
     "metadata": {},
     "output_type": "execute_result"
    }
   ],
   "source": [
    "df.head()"
   ]
  },
  {
   "cell_type": "code",
   "execution_count": 16,
   "id": "7c2acdf6",
   "metadata": {},
   "outputs": [],
   "source": [
    "srt = df.sort_values(\"energy\").drop_duplicates(subset=\"energy\")"
   ]
  },
  {
   "cell_type": "code",
   "execution_count": 14,
   "id": "0de6a3f3",
   "metadata": {},
   "outputs": [
    {
     "data": {
      "application/vnd.jupyter.widget-view+json": {
       "model_id": "2e47f2ce919f46fcb69b828785c2ad9c",
       "version_major": 2,
       "version_minor": 0
      },
      "text/plain": [
       "NGLWidget()"
      ]
     },
     "metadata": {},
     "output_type": "display_data"
    }
   ],
   "source": [
    "at = get_atoms(srt.iloc[1][\"atoms\"])\n",
    "# at = make_supercell(at, np.array([2, 2, 1]) * np.eye(3))\n",
    "nv.show_ase(at)"
   ]
  },
  {
   "cell_type": "code",
   "execution_count": 18,
   "id": "7b748cd7",
   "metadata": {},
   "outputs": [
    {
     "data": {
      "application/vnd.jupyter.widget-view+json": {
       "model_id": "25534fe28c3a4bf3baef611b0691c470",
       "version_major": 2,
       "version_minor": 0
      },
      "text/plain": [
       "NGLWidget()"
      ]
     },
     "metadata": {},
     "output_type": "display_data"
    }
   ],
   "source": [
    "at = get_atoms(srt.iloc[0][\"atoms\"])\n",
    "# at = make_supercell(at, np.array([2, 2, 1]) * np.eye(3))\n",
    "nv.show_ase(at)"
   ]
  }
 ],
 "metadata": {
  "kernelspec": {
   "display_name": "mkite-cov",
   "language": "python",
   "name": "mkite-cov"
  },
  "language_info": {
   "codemirror_mode": {
    "name": "ipython",
    "version": 3
   },
   "file_extension": ".py",
   "mimetype": "text/x-python",
   "name": "python",
   "nbconvert_exporter": "python",
   "pygments_lexer": "ipython3",
   "version": "3.9.13"
  }
 },
 "nbformat": 4,
 "nbformat_minor": 5
}
