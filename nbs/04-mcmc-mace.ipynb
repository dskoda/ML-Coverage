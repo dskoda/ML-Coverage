{
 "cells": [
  {
   "cell_type": "code",
   "execution_count": 1,
   "id": "824283d7",
   "metadata": {},
   "outputs": [],
   "source": [
    "import itertools\n",
    "from basics import *\n",
    "from plotting import *\n",
    "from plotting import savefig\n",
    "from ase.io import read\n",
    "import seaborn as sns\n",
    "from scipy import stats\n",
    "\n",
    "plt.style.use(\"paper\")"
   ]
  },
  {
   "cell_type": "code",
   "execution_count": 8,
   "id": "b4da7ea9",
   "metadata": {},
   "outputs": [],
   "source": [
    "root_dir = \"../data/03-mace-mcmc\""
   ]
  },
  {
   "cell_type": "code",
   "execution_count": 11,
   "id": "5c2339e2",
   "metadata": {},
   "outputs": [],
   "source": [
    "dset_path = os.path.join(root_dir, \"mcmc-sampled.xyz\")\n",
    "\n",
    "dset = read(dset_path, index=\":\")\n",
    "\n",
    "full = []\n",
    "for i, at in enumerate(dset):\n",
    "    full.append({\n",
    "        \"index\": i,\n",
    "        \"crystal_id\": at.info[\"crystal_id\"],\n",
    "        \"nads\": (at.numbers == 6).sum(),\n",
    "        \"n_atoms\": len(at),\n",
    "        \"true\": at.info[\"energy\"],\n",
    "        \"pred\": at.info[\"MACE_energy\"],\n",
    "        \"facet\": at.info[\"facet\"]\n",
    "    })\n",
    "\n",
    "full = pd.DataFrame(full)\n",
    "\n",
    "full[\"npred\"] = full[\"pred\"] / full[\"nads\"]\n",
    "full[\"ntrue\"] = full[\"true\"] / full[\"nads\"]"
   ]
  },
  {
   "cell_type": "code",
   "execution_count": 12,
   "id": "b7299663",
   "metadata": {},
   "outputs": [],
   "source": [
    "full_metrics = []\n",
    "\n",
    "for facet, grp in full.groupby(\"facet\"):\n",
    "    err = grp[\"npred\"] - grp[\"ntrue\"]\n",
    "    _rmse = np.sqrt((err ** 2).mean())\n",
    "    full_metrics.append({\"facet\": facet, \"rmse\": _rmse})\n",
    "\n",
    "full_metrics = pd.DataFrame(full_metrics)"
   ]
  },
  {
   "cell_type": "code",
   "execution_count": 13,
   "id": "6e662b55",
   "metadata": {},
   "outputs": [
    {
     "data": {
      "text/html": [
       "<div>\n",
       "<style scoped>\n",
       "    .dataframe tbody tr th:only-of-type {\n",
       "        vertical-align: middle;\n",
       "    }\n",
       "\n",
       "    .dataframe tbody tr th {\n",
       "        vertical-align: top;\n",
       "    }\n",
       "\n",
       "    .dataframe thead th {\n",
       "        text-align: right;\n",
       "    }\n",
       "</style>\n",
       "<table border=\"1\" class=\"dataframe\">\n",
       "  <thead>\n",
       "    <tr style=\"text-align: right;\">\n",
       "      <th></th>\n",
       "      <th>facet</th>\n",
       "      <th>rmse</th>\n",
       "    </tr>\n",
       "  </thead>\n",
       "  <tbody>\n",
       "    <tr>\n",
       "      <th>0</th>\n",
       "      <td>100</td>\n",
       "      <td>0.095661</td>\n",
       "    </tr>\n",
       "    <tr>\n",
       "      <th>1</th>\n",
       "      <td>111</td>\n",
       "      <td>0.090632</td>\n",
       "    </tr>\n",
       "    <tr>\n",
       "      <th>2</th>\n",
       "      <td>211</td>\n",
       "      <td>0.092533</td>\n",
       "    </tr>\n",
       "    <tr>\n",
       "      <th>3</th>\n",
       "      <td>331</td>\n",
       "      <td>0.096975</td>\n",
       "    </tr>\n",
       "    <tr>\n",
       "      <th>4</th>\n",
       "      <td>410</td>\n",
       "      <td>0.084403</td>\n",
       "    </tr>\n",
       "    <tr>\n",
       "      <th>5</th>\n",
       "      <td>711</td>\n",
       "      <td>0.102120</td>\n",
       "    </tr>\n",
       "  </tbody>\n",
       "</table>\n",
       "</div>"
      ],
      "text/plain": [
       "   facet      rmse\n",
       "0    100  0.095661\n",
       "1    111  0.090632\n",
       "2    211  0.092533\n",
       "3    331  0.096975\n",
       "4    410  0.084403\n",
       "5    711  0.102120"
      ]
     },
     "execution_count": 13,
     "metadata": {},
     "output_type": "execute_result"
    }
   ],
   "source": [
    "full_metrics"
   ]
  },
  {
   "cell_type": "code",
   "execution_count": 31,
   "id": "b7c598c2",
   "metadata": {},
   "outputs": [],
   "source": [
    "err = full[\"npred\"] - full[\"ntrue\"]\n",
    "rmse = np.sqrt((err ** 2).mean())"
   ]
  },
  {
   "cell_type": "code",
   "execution_count": 32,
   "id": "978466fd",
   "metadata": {},
   "outputs": [
    {
     "data": {
      "text/plain": [
       "0.09391538472019641"
      ]
     },
     "execution_count": 32,
     "metadata": {},
     "output_type": "execute_result"
    }
   ],
   "source": [
    "rmse"
   ]
  },
  {
   "cell_type": "code",
   "execution_count": 30,
   "id": "065271b2",
   "metadata": {},
   "outputs": [
    {
     "data": {
      "image/png": "[encoded data removed]",
      "text/plain": [
       "<Figure size 450x450 with 1 Axes>"
      ]
     },
     "metadata": {},
     "output_type": "display_data"
    }
   ],
   "source": [
    "fig, ax = plt.subplots(figsize=(3, 3))\n",
    "\n",
    "ax.scatter(\n",
    "    full[\"ntrue\"], full[\"npred\"],\n",
    "    c=full[\"nads\"],\n",
    "    linewidths=0.0,\n",
    ")\n",
    "\n",
    "lims = [-0.9, 4.5]\n",
    "ax.plot(lims, lims, \"k-\", linewidth=0.5, zorder=-1)\n",
    "ax.set_aspect(\"equal\")\n",
    "ax.set_xlim(lims)\n",
    "ax.set_ylim(lims)\n",
    "\n",
    "ax.set_xlabel(\"DFT Bind. Energy (eV/CO)\")\n",
    "ax.set_ylabel(\"ML Bind. Energy (eV/CO)\")\n",
    "\n",
    "savefig(fig, \"03-mcmc-parity.pdf\")\n",
    "plt.show()"
   ]
  }
 ],
 "metadata": {
  "kernelspec": {
   "display_name": "mkite-cov",
   "language": "python",
   "name": "mkite-cov"
  },
  "language_info": {
   "codemirror_mode": {
    "name": "ipython",
    "version": 3
   },
   "file_extension": ".py",
   "mimetype": "text/x-python",
   "name": "python",
   "nbconvert_exporter": "python",
   "pygments_lexer": "ipython3",
   "version": "3.9.13"
  }
 },
 "nbformat": 4,
 "nbformat_minor": 5
}
