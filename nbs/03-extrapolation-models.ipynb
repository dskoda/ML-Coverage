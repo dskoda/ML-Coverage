{
 "cells": [
  {
   "cell_type": "markdown",
   "id": "83d1f87c-01c1-451e-bba2-0cf53005abf3",
   "metadata": {},
   "source": [
    "# 03 - Performance of other ML models\n",
    "\n",
    "This notebook reproduces Fig. 3d from the manuscript and Fig. S11 from the Supporting Information. The data in this notebook compares the performance of different ML models in predicting binding energies for the Cu(711) facet under different o.o.d. conditions."
   ]
  },
  {
   "cell_type": "code",
   "execution_count": 1,
   "id": "1590e2c7",
   "metadata": {},
   "outputs": [],
   "source": [
    "import itertools\n",
    "from basics import *\n",
    "from plotting import *\n",
    "from scipy import stats\n",
    "import seaborn as sns\n",
    "import yaml\n",
    "from matplotlib import cm\n",
    "\n",
    "plt.style.use(\"paper\")"
   ]
  },
  {
   "cell_type": "code",
   "execution_count": 2,
   "id": "700f6a25",
   "metadata": {},
   "outputs": [],
   "source": [
    "names = [\"soap\", \"latinn\", \"schnet\", \"mace\"]\n",
    "facets = [100, 111, 211, 331, 410, 711]\n",
    "root_dir = \"../data/02-extrapolation\"\n",
    "\n",
    "dfs = {\n",
    "    name: pd.read_csv(f\"{root_dir}/{name}.csv\", index_col=0)\n",
    "    for name in names\n",
    "}    "
   ]
  },
  {
   "cell_type": "code",
   "execution_count": 3,
   "id": "69e3bfc5",
   "metadata": {},
   "outputs": [],
   "source": [
    "df = []\n",
    "for name, subdf in dfs.items():\n",
    "    _df = subdf.copy()\n",
    "    _df[\"arch\"] = name\n",
    "    if \"model\" in _df.columns:\n",
    "        _df[\"model\"] = _df[\"model\"].apply(int).apply(str)\n",
    "\n",
    "    df.append(_df)\n",
    "    \n",
    "df = pd.concat(df, axis=0)"
   ]
  },
  {
   "cell_type": "code",
   "execution_count": 4,
   "id": "e04e7e51",
   "metadata": {},
   "outputs": [
    {
     "data": {
      "text/html": [
       "<div>\n",
       "<style scoped>\n",
       "    .dataframe tbody tr th:only-of-type {\n",
       "        vertical-align: middle;\n",
       "    }\n",
       "\n",
       "    .dataframe tbody tr th {\n",
       "        vertical-align: top;\n",
       "    }\n",
       "\n",
       "    .dataframe thead th {\n",
       "        text-align: right;\n",
       "    }\n",
       "</style>\n",
       "<table border=\"1\" class=\"dataframe\">\n",
       "  <thead>\n",
       "    <tr style=\"text-align: right;\">\n",
       "      <th></th>\n",
       "      <th>facet</th>\n",
       "      <th>model</th>\n",
       "      <th>rmse</th>\n",
       "      <th>mae</th>\n",
       "      <th>spearman</th>\n",
       "      <th>pearson</th>\n",
       "      <th>arch</th>\n",
       "      <th>exp</th>\n",
       "      <th>exp-model</th>\n",
       "    </tr>\n",
       "  </thead>\n",
       "  <tbody>\n",
       "    <tr>\n",
       "      <th>0</th>\n",
       "      <td>100</td>\n",
       "      <td>1</td>\n",
       "      <td>0.131036</td>\n",
       "      <td>0.113885</td>\n",
       "      <td>0.995518</td>\n",
       "      <td>0.999785</td>\n",
       "      <td>soap</td>\n",
       "      <td>NaN</td>\n",
       "      <td>NaN</td>\n",
       "    </tr>\n",
       "    <tr>\n",
       "      <th>1</th>\n",
       "      <td>100</td>\n",
       "      <td>2</td>\n",
       "      <td>0.145741</td>\n",
       "      <td>0.127446</td>\n",
       "      <td>0.992736</td>\n",
       "      <td>0.999699</td>\n",
       "      <td>soap</td>\n",
       "      <td>NaN</td>\n",
       "      <td>NaN</td>\n",
       "    </tr>\n",
       "    <tr>\n",
       "      <th>2</th>\n",
       "      <td>100</td>\n",
       "      <td>3</td>\n",
       "      <td>0.123272</td>\n",
       "      <td>0.107315</td>\n",
       "      <td>0.994862</td>\n",
       "      <td>0.999767</td>\n",
       "      <td>soap</td>\n",
       "      <td>NaN</td>\n",
       "      <td>NaN</td>\n",
       "    </tr>\n",
       "    <tr>\n",
       "      <th>3</th>\n",
       "      <td>100</td>\n",
       "      <td>4</td>\n",
       "      <td>0.133095</td>\n",
       "      <td>0.115727</td>\n",
       "      <td>0.992579</td>\n",
       "      <td>0.999682</td>\n",
       "      <td>soap</td>\n",
       "      <td>NaN</td>\n",
       "      <td>NaN</td>\n",
       "    </tr>\n",
       "    <tr>\n",
       "      <th>4</th>\n",
       "      <td>100</td>\n",
       "      <td>5</td>\n",
       "      <td>0.123740</td>\n",
       "      <td>0.108677</td>\n",
       "      <td>0.994855</td>\n",
       "      <td>0.999775</td>\n",
       "      <td>soap</td>\n",
       "      <td>NaN</td>\n",
       "      <td>NaN</td>\n",
       "    </tr>\n",
       "    <tr>\n",
       "      <th>...</th>\n",
       "      <td>...</td>\n",
       "      <td>...</td>\n",
       "      <td>...</td>\n",
       "      <td>...</td>\n",
       "      <td>...</td>\n",
       "      <td>...</td>\n",
       "      <td>...</td>\n",
       "      <td>...</td>\n",
       "      <td>...</td>\n",
       "    </tr>\n",
       "    <tr>\n",
       "      <th>1</th>\n",
       "      <td>111</td>\n",
       "      <td>NaN</td>\n",
       "      <td>0.130721</td>\n",
       "      <td>0.110847</td>\n",
       "      <td>0.995141</td>\n",
       "      <td>0.997038</td>\n",
       "      <td>mace</td>\n",
       "      <td>NaN</td>\n",
       "      <td>NaN</td>\n",
       "    </tr>\n",
       "    <tr>\n",
       "      <th>2</th>\n",
       "      <td>211</td>\n",
       "      <td>NaN</td>\n",
       "      <td>0.124749</td>\n",
       "      <td>0.101214</td>\n",
       "      <td>0.982879</td>\n",
       "      <td>0.994540</td>\n",
       "      <td>mace</td>\n",
       "      <td>NaN</td>\n",
       "      <td>NaN</td>\n",
       "    </tr>\n",
       "    <tr>\n",
       "      <th>3</th>\n",
       "      <td>331</td>\n",
       "      <td>NaN</td>\n",
       "      <td>0.236133</td>\n",
       "      <td>0.190670</td>\n",
       "      <td>0.961904</td>\n",
       "      <td>0.971698</td>\n",
       "      <td>mace</td>\n",
       "      <td>NaN</td>\n",
       "      <td>NaN</td>\n",
       "    </tr>\n",
       "    <tr>\n",
       "      <th>4</th>\n",
       "      <td>410</td>\n",
       "      <td>NaN</td>\n",
       "      <td>0.040233</td>\n",
       "      <td>0.031465</td>\n",
       "      <td>0.993861</td>\n",
       "      <td>0.998857</td>\n",
       "      <td>mace</td>\n",
       "      <td>NaN</td>\n",
       "      <td>NaN</td>\n",
       "    </tr>\n",
       "    <tr>\n",
       "      <th>5</th>\n",
       "      <td>711</td>\n",
       "      <td>NaN</td>\n",
       "      <td>0.014552</td>\n",
       "      <td>0.010972</td>\n",
       "      <td>0.999698</td>\n",
       "      <td>0.999944</td>\n",
       "      <td>mace</td>\n",
       "      <td>NaN</td>\n",
       "      <td>NaN</td>\n",
       "    </tr>\n",
       "  </tbody>\n",
       "</table>\n",
       "<p>84 rows × 9 columns</p>\n",
       "</div>"
      ],
      "text/plain": [
       "    facet model      rmse       mae  spearman   pearson  arch  exp exp-model\n",
       "0     100     1  0.131036  0.113885  0.995518  0.999785  soap  NaN       NaN\n",
       "1     100     2  0.145741  0.127446  0.992736  0.999699  soap  NaN       NaN\n",
       "2     100     3  0.123272  0.107315  0.994862  0.999767  soap  NaN       NaN\n",
       "3     100     4  0.133095  0.115727  0.992579  0.999682  soap  NaN       NaN\n",
       "4     100     5  0.123740  0.108677  0.994855  0.999775  soap  NaN       NaN\n",
       "..    ...   ...       ...       ...       ...       ...   ...  ...       ...\n",
       "1     111   NaN  0.130721  0.110847  0.995141  0.997038  mace  NaN       NaN\n",
       "2     211   NaN  0.124749  0.101214  0.982879  0.994540  mace  NaN       NaN\n",
       "3     331   NaN  0.236133  0.190670  0.961904  0.971698  mace  NaN       NaN\n",
       "4     410   NaN  0.040233  0.031465  0.993861  0.998857  mace  NaN       NaN\n",
       "5     711   NaN  0.014552  0.010972  0.999698  0.999944  mace  NaN       NaN\n",
       "\n",
       "[84 rows x 9 columns]"
      ]
     },
     "execution_count": 4,
     "metadata": {},
     "output_type": "execute_result"
    }
   ],
   "source": [
    "df"
   ]
  },
  {
   "cell_type": "markdown",
   "id": "c2f2944e",
   "metadata": {},
   "source": [
    "## In-domain errors"
   ]
  },
  {
   "cell_type": "code",
   "execution_count": 5,
   "id": "9fa4c0ab",
   "metadata": {},
   "outputs": [],
   "source": [
    "fdf = df.loc[df.facet == 711]\n",
    "fdf = fdf.groupby([\"arch\"])[\"rmse\"].mean().reset_index()"
   ]
  },
  {
   "cell_type": "code",
   "execution_count": 6,
   "id": "5b27d9fa",
   "metadata": {},
   "outputs": [
    {
     "data": {
      "text/html": [
       "<div>\n",
       "<style scoped>\n",
       "    .dataframe tbody tr th:only-of-type {\n",
       "        vertical-align: middle;\n",
       "    }\n",
       "\n",
       "    .dataframe tbody tr th {\n",
       "        vertical-align: top;\n",
       "    }\n",
       "\n",
       "    .dataframe thead th {\n",
       "        text-align: right;\n",
       "    }\n",
       "</style>\n",
       "<table border=\"1\" class=\"dataframe\">\n",
       "  <thead>\n",
       "    <tr style=\"text-align: right;\">\n",
       "      <th></th>\n",
       "      <th>arch</th>\n",
       "      <th>rmse</th>\n",
       "    </tr>\n",
       "  </thead>\n",
       "  <tbody>\n",
       "    <tr>\n",
       "      <th>0</th>\n",
       "      <td>latinn</td>\n",
       "      <td>0.027427</td>\n",
       "    </tr>\n",
       "    <tr>\n",
       "      <th>1</th>\n",
       "      <td>mace</td>\n",
       "      <td>0.014552</td>\n",
       "    </tr>\n",
       "    <tr>\n",
       "      <th>2</th>\n",
       "      <td>schnet</td>\n",
       "      <td>0.029424</td>\n",
       "    </tr>\n",
       "    <tr>\n",
       "      <th>3</th>\n",
       "      <td>soap</td>\n",
       "      <td>0.040646</td>\n",
       "    </tr>\n",
       "  </tbody>\n",
       "</table>\n",
       "</div>"
      ],
      "text/plain": [
       "     arch      rmse\n",
       "0  latinn  0.027427\n",
       "1    mace  0.014552\n",
       "2  schnet  0.029424\n",
       "3    soap  0.040646"
      ]
     },
     "execution_count": 6,
     "metadata": {},
     "output_type": "execute_result"
    }
   ],
   "source": [
    "fdf"
   ]
  },
  {
   "cell_type": "markdown",
   "id": "46675ef5",
   "metadata": {},
   "source": [
    "## Out-of-domain errors"
   ]
  },
  {
   "cell_type": "code",
   "execution_count": 7,
   "id": "30217d03",
   "metadata": {},
   "outputs": [],
   "source": [
    "subdf = df.groupby([\"arch\", \"facet\"])[\"rmse\"].mean().reset_index()"
   ]
  },
  {
   "cell_type": "code",
   "execution_count": 8,
   "id": "422ca1f2",
   "metadata": {},
   "outputs": [],
   "source": [
    "table = subdf.pivot(index=\"arch\", columns=\"facet\", values=\"rmse\")\n",
    "table = table.loc[[\"soap\", \"schnet\", \"latinn\", \"mace\"]]\n",
    "table = table * 1000"
   ]
  },
  {
   "cell_type": "code",
   "execution_count": 9,
   "id": "29a53463",
   "metadata": {},
   "outputs": [
    {
     "data": {
      "image/png": "[encoded data removed]",
      "text/plain": [
       "<Figure size 400x400 with 1 Axes>"
      ]
     },
     "metadata": {},
     "output_type": "display_data"
    }
   ],
   "source": [
    "fig, ax = plt.subplots(figsize=(4, 4))\n",
    "\n",
    "sns.heatmap(\n",
    "    table,\n",
    "    annot=True,\n",
    "    fmt=\".0f\",\n",
    "    cbar=False,\n",
    "    square=True,\n",
    "    ax=ax,\n",
    "    cmap=\"Greens_r\"\n",
    ")\n",
    "\n",
    "ax.set_xlabel(\"Test set\")\n",
    "ax.set_ylabel(\"\")\n",
    "ax.set_yticklabels([\n",
    "    \"SOAP +\\n NN\",\n",
    "    \"SchNet\",\n",
    "    \"SOAP +\\n lateral NN\",\n",
    "    \"MACE\"\n",
    "], rotation=0)\n",
    "\n",
    "ax.set_title(\"RMSE (meV/CO)\")\n",
    "savefig(fig, \"03-extrapolation-models-rmse.pdf\")\n",
    "plt.show()"
   ]
  },
  {
   "cell_type": "markdown",
   "id": "b73031fa",
   "metadata": {},
   "source": [
    "## Plotting the out of distribution errors"
   ]
  },
  {
   "cell_type": "code",
   "execution_count": 10,
   "id": "608182c6",
   "metadata": {},
   "outputs": [],
   "source": [
    "ood = table[[100, 111, 211, 331, 410]].mean(1)\n",
    "iid = table[711]\n",
    "\n",
    "vals = pd.concat([iid, ood], axis=1)\n",
    "vals.columns = [\"in\", \"out\"]\n",
    "vals = vals\n",
    "\n",
    "ood_std = table[[100, 111, 211, 331, 410]].std(1)"
   ]
  },
  {
   "cell_type": "code",
   "execution_count": 11,
   "id": "b8528cdd",
   "metadata": {},
   "outputs": [],
   "source": [
    "subdf = vals.stack().reset_index()\n",
    "subdf.columns = [\"model\", \"dset\", \"rmse\"]\n",
    "subdf.loc[:, \"rmse\"] = subdf[\"rmse\"]"
   ]
  },
  {
   "cell_type": "code",
   "execution_count": 12,
   "id": "e368b5ad",
   "metadata": {},
   "outputs": [
    {
     "data": {
      "text/html": [
       "<div>\n",
       "<style scoped>\n",
       "    .dataframe tbody tr th:only-of-type {\n",
       "        vertical-align: middle;\n",
       "    }\n",
       "\n",
       "    .dataframe tbody tr th {\n",
       "        vertical-align: top;\n",
       "    }\n",
       "\n",
       "    .dataframe thead th {\n",
       "        text-align: right;\n",
       "    }\n",
       "</style>\n",
       "<table border=\"1\" class=\"dataframe\">\n",
       "  <thead>\n",
       "    <tr style=\"text-align: right;\">\n",
       "      <th></th>\n",
       "      <th>in</th>\n",
       "      <th>out</th>\n",
       "    </tr>\n",
       "    <tr>\n",
       "      <th>arch</th>\n",
       "      <th></th>\n",
       "      <th></th>\n",
       "    </tr>\n",
       "  </thead>\n",
       "  <tbody>\n",
       "    <tr>\n",
       "      <th>soap</th>\n",
       "      <td>40.646041</td>\n",
       "      <td>200.512880</td>\n",
       "    </tr>\n",
       "    <tr>\n",
       "      <th>schnet</th>\n",
       "      <td>29.423563</td>\n",
       "      <td>174.059942</td>\n",
       "    </tr>\n",
       "    <tr>\n",
       "      <th>latinn</th>\n",
       "      <td>27.426692</td>\n",
       "      <td>121.866152</td>\n",
       "    </tr>\n",
       "    <tr>\n",
       "      <th>mace</th>\n",
       "      <td>14.551991</td>\n",
       "      <td>111.819717</td>\n",
       "    </tr>\n",
       "  </tbody>\n",
       "</table>\n",
       "</div>"
      ],
      "text/plain": [
       "               in         out\n",
       "arch                         \n",
       "soap    40.646041  200.512880\n",
       "schnet  29.423563  174.059942\n",
       "latinn  27.426692  121.866152\n",
       "mace    14.551991  111.819717"
      ]
     },
     "execution_count": 12,
     "metadata": {},
     "output_type": "execute_result"
    }
   ],
   "source": [
    "vals"
   ]
  },
  {
   "cell_type": "code",
   "execution_count": 13,
   "id": "a4dcfa48",
   "metadata": {},
   "outputs": [
    {
     "data": {
      "image/png": "[encoded data removed]",
      "text/plain": [
       "<Figure size 300x200 with 1 Axes>"
      ]
     },
     "metadata": {},
     "output_type": "display_data"
    }
   ],
   "source": [
    "fig, ax = plt.subplots(figsize=(3, 2))\n",
    "\n",
    "sns.barplot(\n",
    "    data=subdf,\n",
    "    y=\"rmse\",\n",
    "    x=\"model\",\n",
    "    hue=\"dset\",\n",
    "    orient=\"v\",\n",
    "    ax=ax,\n",
    ")\n",
    "\n",
    "ax.legend(frameon=False)\n",
    "\n",
    "ax.set_ylabel(\"RMSE (meV/CO)\")\n",
    "\n",
    "savefig(fig, \"03-extrapolation-models-mean.pdf\")\n",
    "plt.show()"
   ]
  }
 ],
 "metadata": {
  "kernelspec": {
   "display_name": "Python 3 (ipykernel)",
   "language": "python",
   "name": "python3"
  },
  "language_info": {
   "codemirror_mode": {
    "name": "ipython",
    "version": 3
   },
   "file_extension": ".py",
   "mimetype": "text/x-python",
   "name": "python",
   "nbconvert_exporter": "python",
   "pygments_lexer": "ipython3",
   "version": "3.9.19"
  }
 },
 "nbformat": 4,
 "nbformat_minor": 5
}
