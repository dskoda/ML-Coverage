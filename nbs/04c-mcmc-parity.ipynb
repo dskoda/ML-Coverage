{
 "cells": [
  {
   "cell_type": "markdown",
   "id": "b57dd916-aa8a-4a60-ae24-854de7325486",
   "metadata": {},
   "source": [
    "# 04c - Parity plot for MCMC-sampled structures\n",
    "\n",
    "This notebook reproduces Fig. 4d from the manuscript. The plot in this notebook compares how good were the predictions of the MACE model used to predict the binding energies of the systems prior to a DFT calculation, and the actual DFT calculation resulting from it."
   ]
  },
  {
   "cell_type": "code",
   "execution_count": 1,
   "id": "824283d7",
   "metadata": {},
   "outputs": [],
   "source": [
    "import itertools\n",
    "from basics import *\n",
    "from plotting import *\n",
    "from plotting import savefig\n",
    "from ase.io import read\n",
    "import seaborn as sns\n",
    "from scipy import stats\n",
    "from mpl_toolkits.axes_grid1.inset_locator import inset_axes\n",
    "\n",
    "plt.style.use(\"paper\")"
   ]
  },
  {
   "cell_type": "markdown",
   "id": "f05ca991-4637-40ac-9140-3c4b88e26a49",
   "metadata": {},
   "source": [
    "## Loading the data"
   ]
  },
  {
   "cell_type": "code",
   "execution_count": 2,
   "id": "b4da7ea9",
   "metadata": {},
   "outputs": [],
   "source": [
    "root_dir = \"../data/04-copper-mcmc\""
   ]
  },
  {
   "cell_type": "code",
   "execution_count": 3,
   "id": "5c2339e2",
   "metadata": {},
   "outputs": [],
   "source": [
    "dset_path = os.path.join(root_dir, \"231204_mcmc_sampled.xyz\")\n",
    "\n",
    "dset = read(dset_path, index=\":\")\n",
    "\n",
    "full = []\n",
    "for i, at in enumerate(dset):\n",
    "    full.append({\n",
    "        \"index\": i,\n",
    "        \"crystal_id\": at.info[\"crystal_id\"],\n",
    "        \"nads\": (at.numbers == 6).sum(),\n",
    "        \"n_atoms\": len(at),\n",
    "        \"true\": at.info[\"binding\"],\n",
    "        \"pred\": at.info[\"MACE_energy\"],\n",
    "        \"facet\": at.info[\"facet\"]\n",
    "    })\n",
    "\n",
    "full = pd.DataFrame(full)\n",
    "\n",
    "full[\"npred\"] = full[\"pred\"] / full[\"nads\"]\n",
    "full[\"ntrue\"] = full[\"true\"] / full[\"nads\"]"
   ]
  },
  {
   "cell_type": "markdown",
   "id": "ef464ae3-51f2-4b2f-9672-c948de167ce4",
   "metadata": {},
   "source": [
    "## Comparing the predictions (Fig. 4d)"
   ]
  },
  {
   "cell_type": "code",
   "execution_count": 4,
   "id": "b7299663",
   "metadata": {},
   "outputs": [],
   "source": [
    "full_metrics = []\n",
    "\n",
    "for facet, grp in full.groupby(\"facet\"):\n",
    "    err = grp[\"npred\"] - grp[\"ntrue\"]\n",
    "    _rmse = np.sqrt((err ** 2).mean())\n",
    "    full_metrics.append({\"facet\": facet, \"rmse\": _rmse})\n",
    "\n",
    "full_metrics = pd.DataFrame(full_metrics)"
   ]
  },
  {
   "cell_type": "code",
   "execution_count": 5,
   "id": "b7c598c2",
   "metadata": {},
   "outputs": [
    {
     "name": "stdout",
     "output_type": "stream",
     "text": [
      "91.05052545551187\n"
     ]
    }
   ],
   "source": [
    "err = full[\"npred\"] - full[\"ntrue\"]\n",
    "rmse = np.sqrt((err ** 2).mean())\n",
    "print(rmse * 1000)"
   ]
  },
  {
   "cell_type": "code",
   "execution_count": 6,
   "id": "978466fd",
   "metadata": {},
   "outputs": [
    {
     "data": {
      "text/plain": [
       "SignificanceResult(statistic=0.9992640961407626, pvalue=0.0)"
      ]
     },
     "execution_count": 6,
     "metadata": {},
     "output_type": "execute_result"
    }
   ],
   "source": [
    "stats.spearmanr(full[\"ntrue\"], full[\"npred\"])"
   ]
  },
  {
   "cell_type": "code",
   "execution_count": 7,
   "id": "065271b2",
   "metadata": {},
   "outputs": [
    {
     "data": {
      "image/png": "[encoded data removed]",
      "text/plain": [
       "<Figure size 300x300 with 2 Axes>"
      ]
     },
     "metadata": {},
     "output_type": "display_data"
    }
   ],
   "source": [
    "fig, ax = plt.subplots(figsize=(3, 3))\n",
    "\n",
    "norm = plt.Normalize(2, 20)\n",
    "\n",
    "sc = ax.scatter(\n",
    "    full[\"ntrue\"], full[\"npred\"],\n",
    "    c=full[\"nads\"],\n",
    "    norm=norm,\n",
    "    linewidths=0.0,\n",
    ")\n",
    "\n",
    "lims = [-0.9, 4.5]\n",
    "ax.plot(lims, lims, \"k-\", linewidth=0.5, zorder=-1)\n",
    "ax.set_aspect(\"equal\")\n",
    "ax.set_xlim(lims)\n",
    "ax.set_ylim(lims)\n",
    "\n",
    "ax.set_xlabel(\"DFT Bind. Energy (eV/CO)\")\n",
    "ax.set_ylabel(\"ML Bind. Energy (eV/CO)\")\n",
    "\n",
    "cax = inset_axes(ax, width=\"30%\", height=\"3%\", bbox_to_anchor=(-0.6, 0, 1, 1), bbox_transform=ax.transAxes)\n",
    "cbar = fig.colorbar(sc, cax=cax, orientation=\"horizontal\")\n",
    "cbar.set_label(\"Num. CO\", loc=\"center\", fontsize=8)\n",
    "\n",
    "savefig(fig, \"04-mcmc-parity.pdf\")\n",
    "plt.show()"
   ]
  }
 ],
 "metadata": {
  "kernelspec": {
   "display_name": "Python 3 (ipykernel)",
   "language": "python",
   "name": "python3"
  },
  "language_info": {
   "codemirror_mode": {
    "name": "ipython",
    "version": 3
   },
   "file_extension": ".py",
   "mimetype": "text/x-python",
   "name": "python",
   "nbconvert_exporter": "python",
   "pygments_lexer": "ipython3",
   "version": "3.9.19"
  }
 },
 "nbformat": 4,
 "nbformat_minor": 5
}
